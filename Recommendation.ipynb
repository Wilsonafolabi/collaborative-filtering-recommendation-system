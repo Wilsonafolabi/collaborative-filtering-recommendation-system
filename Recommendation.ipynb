{
 "cells": [
  {
   "cell_type": "markdown",
   "metadata": {
    "id": "f6tNF-HqH36a"
   },
   "source": [
    "CONTEXT BASED RECOMMENDER SYSTEM\n"
   ]
  },
  {
   "cell_type": "code",
   "execution_count": 1,
   "metadata": {
    "executionInfo": {
     "elapsed": 383,
     "status": "ok",
     "timestamp": 1722257773861,
     "user": {
      "displayName": "Wilson afolabi",
      "userId": "11533055589794375447"
     },
     "user_tz": -60
    },
    "id": "cLpLwnIPrkza"
   },
   "outputs": [],
   "source": [
    "import pandas as pd\n",
    "import numpy as np\n",
    "import matplotlib.pyplot as plt\n",
    "import seaborn as sns\n",
    "from sklearn.preprocessing import LabelEncoder\n",
    "from sklearn.neighbors import KNeighborsClassifier\n",
    "from sklearn.model_selection import train_test_split\n",
    "from sklearn.feature_extraction.text import TfidfVectorizer\n",
    "from sklearn.metrics.pairwise import cosine_similarity\n",
    "\n"
   ]
  },
  {
   "cell_type": "code",
   "execution_count": 3,
   "metadata": {
    "executionInfo": {
     "elapsed": 572,
     "status": "ok",
     "timestamp": 1722257776683,
     "user": {
      "displayName": "Wilson afolabi",
      "userId": "11533055589794375447"
     },
     "user_tz": -60
    },
    "id": "04l2Lav687-2"
   },
   "outputs": [],
   "source": [
    "from scipy.sparse import csr_matrix\n"
   ]
  },
  {
   "cell_type": "code",
   "execution_count": 5,
   "metadata": {
    "executionInfo": {
     "elapsed": 4,
     "status": "ok",
     "timestamp": 1722257777666,
     "user": {
      "displayName": "Wilson afolabi",
      "userId": "11533055589794375447"
     },
     "user_tz": -60
    },
    "id": "43-4Sd2E_0yd"
   },
   "outputs": [],
   "source": [
    "from sklearn.feature_extraction.text import TfidfVectorizer\n",
    "from sklearn.metrics.pairwise import cosine_similarity"
   ]
  },
  {
   "cell_type": "code",
   "execution_count": 7,
   "metadata": {},
   "outputs": [],
   "source": [
    "song_data = pd.read_csv('ex.csv')\n"
   ]
  },
  {
   "cell_type": "code",
   "execution_count": 9,
   "metadata": {
    "colab": {
     "base_uri": "https://localhost:8080/",
     "height": 415
    },
    "executionInfo": {
     "elapsed": 460,
     "status": "ok",
     "timestamp": 1722260368129,
     "user": {
      "displayName": "Wilson afolabi",
      "userId": "11533055589794375447"
     },
     "user_tz": -60
    },
    "id": "MiMMzl2aI_gr",
    "outputId": "e802989c-738e-4f0a-9256-4f7997668f47"
   },
   "outputs": [
    {
     "data": {
      "text/html": [
       "<div>\n",
       "<style scoped>\n",
       "    .dataframe tbody tr th:only-of-type {\n",
       "        vertical-align: middle;\n",
       "    }\n",
       "\n",
       "    .dataframe tbody tr th {\n",
       "        vertical-align: top;\n",
       "    }\n",
       "\n",
       "    .dataframe thead th {\n",
       "        text-align: right;\n",
       "    }\n",
       "</style>\n",
       "<table border=\"1\" class=\"dataframe\">\n",
       "  <thead>\n",
       "    <tr style=\"text-align: right;\">\n",
       "      <th></th>\n",
       "      <th>Song-Name</th>\n",
       "      <th>Singer/Artists</th>\n",
       "      <th>Genre</th>\n",
       "      <th>Album/Movie</th>\n",
       "      <th>User-Rating</th>\n",
       "    </tr>\n",
       "  </thead>\n",
       "  <tbody>\n",
       "    <tr>\n",
       "      <th>0</th>\n",
       "      <td>Aankh Marey</td>\n",
       "      <td>Kumar Sanu, Mika Singh, Neha Kakkar</td>\n",
       "      <td>BollywoodDance</td>\n",
       "      <td>Simmba</td>\n",
       "      <td>8.8/10</td>\n",
       "    </tr>\n",
       "    <tr>\n",
       "      <th>1</th>\n",
       "      <td>Coca Cola</td>\n",
       "      <td>Neha Kakkar, Tony Kakkar</td>\n",
       "      <td>BollywoodDanceRomantic</td>\n",
       "      <td>Luka Chuppi</td>\n",
       "      <td>9.0/10</td>\n",
       "    </tr>\n",
       "    <tr>\n",
       "      <th>2</th>\n",
       "      <td>Apna Time Aayega</td>\n",
       "      <td>Ranveer Singh</td>\n",
       "      <td>BollywoodDance</td>\n",
       "      <td>Gully Boy</td>\n",
       "      <td>9.7/10</td>\n",
       "    </tr>\n",
       "    <tr>\n",
       "      <th>3</th>\n",
       "      <td>Mungda</td>\n",
       "      <td>Jyotica Tangri, Shaan, Subhro Ganguly</td>\n",
       "      <td>BollywoodDance</td>\n",
       "      <td>Total Dhamaal</td>\n",
       "      <td>9.1/10</td>\n",
       "    </tr>\n",
       "    <tr>\n",
       "      <th>4</th>\n",
       "      <td>Tere Bin</td>\n",
       "      <td>Asees Kaur, Rahat Fateh Ali Khan, Tanishk Bagchi</td>\n",
       "      <td>BollywoodRomantic</td>\n",
       "      <td>Simmba</td>\n",
       "      <td>9.2/10</td>\n",
       "    </tr>\n",
       "    <tr>\n",
       "      <th>5</th>\n",
       "      <td>Gali Gali</td>\n",
       "      <td>Neha Kakkar</td>\n",
       "      <td>BollywoodDance</td>\n",
       "      <td>KGF</td>\n",
       "      <td>9.1/10</td>\n",
       "    </tr>\n",
       "    <tr>\n",
       "      <th>6</th>\n",
       "      <td>Chamma Chamma</td>\n",
       "      <td>Arun, Ikka, Neha Kakkar, Romy</td>\n",
       "      <td>BollywoodDance</td>\n",
       "      <td>Fraud Saiyaan</td>\n",
       "      <td>9.2/10</td>\n",
       "    </tr>\n",
       "    <tr>\n",
       "      <th>7</th>\n",
       "      <td>Mere Gully Mein</td>\n",
       "      <td>Ranveer Singh</td>\n",
       "      <td>BollywoodDance</td>\n",
       "      <td>Gully Boy</td>\n",
       "      <td>9.5/10</td>\n",
       "    </tr>\n",
       "    <tr>\n",
       "      <th>8</th>\n",
       "      <td>Kamariya</td>\n",
       "      <td>Darshan Raval</td>\n",
       "      <td>BollywoodDance</td>\n",
       "      <td>Mitron</td>\n",
       "      <td>9.2/10</td>\n",
       "    </tr>\n",
       "    <tr>\n",
       "      <th>9</th>\n",
       "      <td>Ek Ladki Ko Dekha Toh Aisa Laga</td>\n",
       "      <td>Darshan Raval, Rochak Kohli</td>\n",
       "      <td>BollywoodRomantic</td>\n",
       "      <td>Ek Ladki Ko Dekha Toh Aisa Laga</td>\n",
       "      <td>9.6/10</td>\n",
       "    </tr>\n",
       "  </tbody>\n",
       "</table>\n",
       "</div>"
      ],
      "text/plain": [
       "                         Song-Name  \\\n",
       "0                      Aankh Marey   \n",
       "1                        Coca Cola   \n",
       "2                 Apna Time Aayega   \n",
       "3                           Mungda   \n",
       "4                         Tere Bin   \n",
       "5                        Gali Gali   \n",
       "6                    Chamma Chamma   \n",
       "7                  Mere Gully Mein   \n",
       "8                         Kamariya   \n",
       "9  Ek Ladki Ko Dekha Toh Aisa Laga   \n",
       "\n",
       "                                     Singer/Artists                   Genre  \\\n",
       "0               Kumar Sanu, Mika Singh, Neha Kakkar          BollywoodDance   \n",
       "1                          Neha Kakkar, Tony Kakkar  BollywoodDanceRomantic   \n",
       "2                                     Ranveer Singh          BollywoodDance   \n",
       "3             Jyotica Tangri, Shaan, Subhro Ganguly          BollywoodDance   \n",
       "4  Asees Kaur, Rahat Fateh Ali Khan, Tanishk Bagchi       BollywoodRomantic   \n",
       "5                                       Neha Kakkar          BollywoodDance   \n",
       "6                     Arun, Ikka, Neha Kakkar, Romy          BollywoodDance   \n",
       "7                                     Ranveer Singh          BollywoodDance   \n",
       "8                                     Darshan Raval          BollywoodDance   \n",
       "9                       Darshan Raval, Rochak Kohli       BollywoodRomantic   \n",
       "\n",
       "                       Album/Movie User-Rating  \n",
       "0                           Simmba      8.8/10  \n",
       "1                      Luka Chuppi      9.0/10  \n",
       "2                        Gully Boy      9.7/10  \n",
       "3                    Total Dhamaal      9.1/10  \n",
       "4                           Simmba      9.2/10  \n",
       "5                              KGF      9.1/10  \n",
       "6                    Fraud Saiyaan      9.2/10  \n",
       "7                        Gully Boy      9.5/10  \n",
       "8                           Mitron      9.2/10  \n",
       "9  Ek Ladki Ko Dekha Toh Aisa Laga      9.6/10  "
      ]
     },
     "execution_count": 9,
     "metadata": {},
     "output_type": "execute_result"
    }
   ],
   "source": [
    "song_data.head(10)\n",
    "\n"
   ]
  },
  {
   "cell_type": "markdown",
   "metadata": {
    "id": "S5zZ2IueHuo_"
   },
   "source": [
    "**bold text**"
   ]
  },
  {
   "cell_type": "code",
   "execution_count": 12,
   "metadata": {
    "colab": {
     "base_uri": "https://localhost:8080/",
     "height": 300
    },
    "executionInfo": {
     "elapsed": 407,
     "status": "ok",
     "timestamp": 1722260393207,
     "user": {
      "displayName": "Wilson afolabi",
      "userId": "11533055589794375447"
     },
     "user_tz": -60
    },
    "id": "rdYWCtJQLbcY",
    "outputId": "6add8966-9b4e-44d0-cad5-927d15c8a8e8"
   },
   "outputs": [
    {
     "data": {
      "text/html": [
       "<div>\n",
       "<style scoped>\n",
       "    .dataframe tbody tr th:only-of-type {\n",
       "        vertical-align: middle;\n",
       "    }\n",
       "\n",
       "    .dataframe tbody tr th {\n",
       "        vertical-align: top;\n",
       "    }\n",
       "\n",
       "    .dataframe thead th {\n",
       "        text-align: right;\n",
       "    }\n",
       "</style>\n",
       "<table border=\"1\" class=\"dataframe\">\n",
       "  <thead>\n",
       "    <tr style=\"text-align: right;\">\n",
       "      <th></th>\n",
       "      <th>Song-Name</th>\n",
       "      <th>Singer/Artists</th>\n",
       "      <th>Genre</th>\n",
       "      <th>Album/Movie</th>\n",
       "      <th>User-Rating</th>\n",
       "    </tr>\n",
       "  </thead>\n",
       "  <tbody>\n",
       "    <tr>\n",
       "      <th>count</th>\n",
       "      <td>2420</td>\n",
       "      <td>2410</td>\n",
       "      <td>2420</td>\n",
       "      <td>2417</td>\n",
       "      <td>2420</td>\n",
       "    </tr>\n",
       "    <tr>\n",
       "      <th>unique</th>\n",
       "      <td>2337</td>\n",
       "      <td>1214</td>\n",
       "      <td>21</td>\n",
       "      <td>902</td>\n",
       "      <td>40</td>\n",
       "    </tr>\n",
       "    <tr>\n",
       "      <th>top</th>\n",
       "      <td>Naina</td>\n",
       "      <td>Mohammed Rafi</td>\n",
       "      <td>BollywoodDance</td>\n",
       "      <td>Devdas</td>\n",
       "      <td>9.4/10</td>\n",
       "    </tr>\n",
       "    <tr>\n",
       "      <th>freq</th>\n",
       "      <td>3</td>\n",
       "      <td>55</td>\n",
       "      <td>1228</td>\n",
       "      <td>10</td>\n",
       "      <td>281</td>\n",
       "    </tr>\n",
       "  </tbody>\n",
       "</table>\n",
       "</div>"
      ],
      "text/plain": [
       "       Song-Name Singer/Artists           Genre Album/Movie User-Rating\n",
       "count       2420           2410            2420        2417        2420\n",
       "unique      2337           1214              21         902          40\n",
       "top        Naina  Mohammed Rafi  BollywoodDance      Devdas      9.4/10\n",
       "freq           3             55            1228          10         281"
      ]
     },
     "execution_count": 12,
     "metadata": {},
     "output_type": "execute_result"
    }
   ],
   "source": [
    "song_data.describe()"
   ]
  },
  {
   "cell_type": "code",
   "execution_count": 14,
   "metadata": {
    "colab": {
     "base_uri": "https://localhost:8080/"
    },
    "executionInfo": {
     "elapsed": 889,
     "status": "ok",
     "timestamp": 1722260399798,
     "user": {
      "displayName": "Wilson afolabi",
      "userId": "11533055589794375447"
     },
     "user_tz": -60
    },
    "id": "YWnwhzddpLfE",
    "outputId": "62e8a311-268a-4a8e-e23c-f79a5f4efcf1"
   },
   "outputs": [
    {
     "data": {
      "text/plain": [
       "Song-Name          0\n",
       "Singer/Artists    10\n",
       "Genre              0\n",
       "Album/Movie        3\n",
       "User-Rating        0\n",
       "dtype: int64"
      ]
     },
     "execution_count": 14,
     "metadata": {},
     "output_type": "execute_result"
    }
   ],
   "source": [
    "song_data.isnull().sum()"
   ]
  },
  {
   "cell_type": "code",
   "execution_count": 16,
   "metadata": {
    "id": "nXCg8yeSpLwm"
   },
   "outputs": [],
   "source": [
    "song_data=song_data.drop_duplicates()"
   ]
  },
  {
   "cell_type": "code",
   "execution_count": 18,
   "metadata": {},
   "outputs": [],
   "source": [
    "song_data.dropna(inplace=True)"
   ]
  },
  {
   "cell_type": "code",
   "execution_count": 20,
   "metadata": {
    "id": "zok15UgUpL2c"
   },
   "outputs": [
    {
     "data": {
      "text/plain": [
       "Song-Name         0\n",
       "Singer/Artists    0\n",
       "Genre             0\n",
       "Album/Movie       0\n",
       "User-Rating       0\n",
       "dtype: int64"
      ]
     },
     "execution_count": 20,
     "metadata": {},
     "output_type": "execute_result"
    }
   ],
   "source": [
    "song_data.isnull().sum()"
   ]
  },
  {
   "cell_type": "code",
   "execution_count": 22,
   "metadata": {},
   "outputs": [
    {
     "name": "stdout",
     "output_type": "stream",
     "text": [
      "There are 2391 observations in the dataset\n"
     ]
    }
   ],
   "source": [
    "print(f\"There are {song_data.shape[0]} observations in the dataset\")"
   ]
  },
  {
   "cell_type": "code",
   "execution_count": 24,
   "metadata": {},
   "outputs": [
    {
     "name": "stdout",
     "output_type": "stream",
     "text": [
      "There are 2327 unique songs in the dataset\n"
     ]
    }
   ],
   "source": [
    "#Unique songs\n",
    "unique_songs = song_data['Song-Name'].unique().shape[0]\n",
    "print(f\"There are {unique_songs} unique songs in the dataset\")"
   ]
  },
  {
   "cell_type": "code",
   "execution_count": 26,
   "metadata": {},
   "outputs": [],
   "source": [
    "# Preprocess and combine features\n",
    "song_data['combined_features'] = song_data['Song-Name'] + ' ' + song_data['Singer/Artists'] + ' ' + song_data['Genre'] + ' ' + song_data['Album/Movie']\n",
    "\n",
    "# Create a mapping from song names to indices\n",
    "song_name_to_index = pd.Series(song_data.index, index=song_data['Song-Name']).to_dict()\n",
    "\n",
    "# Vectorize combined features\n",
    "vectorizer = TfidfVectorizer()\n",
    "X = vectorizer.fit_transform(song_data['combined_features'])"
   ]
  },
  {
   "cell_type": "code",
   "execution_count": 28,
   "metadata": {},
   "outputs": [],
   "source": [
    "from sklearn.neighbors import NearestNeighbors\n",
    "from rapidfuzz import fuzz\n",
    "import numpy as np\n",
    "\n",
    "class Recommender:\n",
    "    def __init__(self, metric='cosine', algorithm='brute', k=5, data=None, decode_id_song=None):\n",
    "        self.metric = metric\n",
    "        self.algorithm = algorithm\n",
    "        self.k = k\n",
    "        self.data = data\n",
    "        self.decode_id_song = decode_id_song\n",
    "        self.model = self._recommender().fit(data)\n",
    "    \n",
    "    def make_recommendation(self, new_song, n_recommendations):\n",
    "        recommended = self._recommend(new_song=new_song, n_recommendations=n_recommendations)\n",
    "        print(\"... Done\")\n",
    "        return recommended \n",
    "    \n",
    "    def _recommender(self):\n",
    "        return NearestNeighbors(metric=self.metric, algorithm=self.algorithm, n_neighbors=self.k, n_jobs=-1)\n",
    "    \n",
    "    def _recommend(self, new_song, n_recommendations):\n",
    "        recommendations = []\n",
    "        recommendation_ids = self._get_recommendations(new_song=new_song, n_recommendations=n_recommendations)\n",
    "        recommendations_map = self._map_indices_to_song_title(recommendation_ids)\n",
    "        for i, (idx, dist) in enumerate(recommendation_ids):\n",
    "            recommendations.append(recommendations_map[idx])\n",
    "        return recommendations\n",
    "    \n",
    "    def _get_recommendations(self, new_song, n_recommendations):\n",
    "        recom_song_id = self._fuzzy_matching(song=new_song)\n",
    "        print(f\"Starting the recommendation process for {new_song} ...\")\n",
    "        distances, indices = self.model.kneighbors(self.data[recom_song_id], n_neighbors=n_recommendations+1)\n",
    "        return sorted(list(zip(indices.squeeze().tolist(), distances.squeeze().tolist())), key=lambda x: x[1])[:0:-1]\n",
    "    \n",
    "    def _map_indices_to_song_title(self, recommendation_ids):\n",
    "        return {song_id: song_title for song_title, song_id in self.decode_id_song.items()}\n",
    "    \n",
    "    def _fuzzy_matching(self, song):\n",
    "        match_tuple = []\n",
    "        for title, idx in self.decode_id_song.items():\n",
    "            ratio = fuzz.ratio(title.lower(), song.lower())\n",
    "            if ratio >= 60:\n",
    "                match_tuple.append((title, idx, ratio))\n",
    "        match_tuple = sorted(match_tuple, key=lambda x: x[2])[::-1]\n",
    "        if not match_tuple:\n",
    "            print(f\"The recommendation system could not find a match for {song}\")\n",
    "            return None\n",
    "        return match_tuple[0][1]\n"
   ]
  },
  {
   "cell_type": "code",
   "execution_count": 29,
   "metadata": {},
   "outputs": [],
   "source": [
    "from sklearn.neighbors import NearestNeighbors\n",
    "from rapidfuzz import fuzz\n",
    "import numpy as np\n",
    "\n",
    "class Recommender:\n",
    "    def __init__(self, metric='cosine', algorithm='brute', k=5, data=None, decode_id_song=None):\n",
    "        self.metric = metric\n",
    "        self.algorithm = algorithm\n",
    "        self.k = k\n",
    "        self.data = data\n",
    "        self.decode_id_song = decode_id_song\n",
    "        self.model = self._recommender().fit(data)\n",
    "    \n",
    "    def make_recommendation(self, new_song, n_recommendations):\n",
    "        recommended = self._recommend(new_song=new_song, n_recommendations=n_recommendations)\n",
    "        print(\"... Done\")\n",
    "        return recommended \n",
    "    \n",
    "    def _recommender(self):\n",
    "        return NearestNeighbors(metric=self.metric, algorithm=self.algorithm, n_neighbors=self.k, n_jobs=-1)\n",
    "    \n",
    "    def _recommend(self, new_song, n_recommendations):\n",
    "        recommendations = []\n",
    "        recommendation_ids = self._get_recommendations(new_song=new_song, n_recommendations=n_recommendations)\n",
    "        recommendations_map = self._map_indices_to_song_title(recommendation_ids)\n",
    "        for i, (idx, dist) in enumerate(recommendation_ids):\n",
    "            recommendations.append(recommendations_map[idx])\n",
    "        return recommendations\n",
    "    \n",
    "    def _get_recommendations(self, new_song, n_recommendations):\n",
    "        recom_song_id = self._fuzzy_matching(song=new_song)\n",
    "        print(f\"Starting the recommendation process for {new_song} ...\")\n",
    "        distances, indices = self.model.kneighbors(self.data[recom_song_id], n_neighbors=n_recommendations+1)\n",
    "        return sorted(list(zip(indices.squeeze().tolist(), distances.squeeze().tolist())), key=lambda x: x[1])[:0:-1]\n",
    "    \n",
    "    def _map_indices_to_song_title(self, recommendation_ids):\n",
    "        return {song_id: song_title for song_title, song_id in self.decode_id_song.items()}\n",
    "    \n",
    "    def _fuzzy_matching(self, song):\n",
    "        match_tuple = []\n",
    "        for title, idx in self.decode_id_song.items():\n",
    "            ratio = fuzz.ratio(title.lower(), song.lower())\n",
    "            if ratio >= 60:\n",
    "                match_tuple.append((title, idx, ratio))\n",
    "        match_tuple = sorted(match_tuple, key=lambda x: x[2])[::-1]\n",
    "        if not match_tuple:\n",
    "            print(f\"The recommendation system could not find a match for {song}\")\n",
    "            return None\n",
    "        return match_tuple[0][1]\n"
   ]
  },
  {
   "cell_type": "code",
   "execution_count": 32,
   "metadata": {},
   "outputs": [
    {
     "name": "stdout",
     "output_type": "stream",
     "text": [
      "Starting the recommendation process for Some Song Name ...\n",
      "... Done\n",
      "['Raat Ka Nasha', 'Dekha Tujhe Toh', 'Falak Dekhun', 'Dulhan Hum Le Jayenge', 'Jaaneman Jaane Jaan', 'Brothers Mashup', 'Dil Tham Chale Hum Aaj Kidhar']\n"
     ]
    }
   ],
   "source": [
    "# Initialize the recommender with the prepared data\n",
    "recommender = Recommender(\n",
    "    metric='cosine',\n",
    "    algorithm='brute',\n",
    "    k=5,\n",
    "    data=X,\n",
    "    decode_id_song=song_name_to_index\n",
    ")\n",
    "\n",
    "# Example recommendation\n",
    "recommendations = recommender.make_recommendation('Some Song Name', 7)\n",
    "print(recommendations)\n"
   ]
  },
  {
   "cell_type": "raw",
   "metadata": {},
   "source": [
    "COLLABORATIVE BASED ALGORITHM"
   ]
  },
  {
   "cell_type": "code",
   "execution_count": 34,
   "metadata": {},
   "outputs": [],
   "source": [
    "import pandas as pd\n",
    "from sklearn.neighbors import NearestNeighbors\n",
    "from sklearn.preprocessing import StandardScaler\n",
    "\n",
    "# Load data\n",
    "data = pd.read_csv('ex.csv')\n",
    "\n"
   ]
  },
  {
   "cell_type": "code",
   "execution_count": 36,
   "metadata": {},
   "outputs": [
    {
     "name": "stdout",
     "output_type": "stream",
     "text": [
      "Song-Name          0\n",
      "Singer/Artists    10\n",
      "Genre              0\n",
      "Album/Movie        3\n",
      "User-Rating        0\n",
      "dtype: int64\n"
     ]
    }
   ],
   "source": [
    "print(data.isnull().sum())"
   ]
  },
  {
   "cell_type": "code",
   "execution_count": 38,
   "metadata": {},
   "outputs": [],
   "source": [
    "data.dropna(inplace=True)"
   ]
  },
  {
   "cell_type": "code",
   "execution_count": 40,
   "metadata": {},
   "outputs": [
    {
     "data": {
      "text/plain": [
       "Song-Name         0\n",
       "Singer/Artists    0\n",
       "Genre             0\n",
       "Album/Movie       0\n",
       "User-Rating       0\n",
       "dtype: int64"
      ]
     },
     "execution_count": 40,
     "metadata": {},
     "output_type": "execute_result"
    }
   ],
   "source": [
    "data.isnull().sum()"
   ]
  },
  {
   "cell_type": "code",
   "execution_count": 42,
   "metadata": {},
   "outputs": [],
   "source": [
    "# Convert 'User-Rating' to numeric after stripping the '/10' part and converting to float\n",
    "def convert_rating(rating):\n",
    "    try:\n",
    "        return float(rating.split('/')[0])\n",
    "    except ValueError:\n",
    "        return None\n",
    "\n",
    "data['User-Rating'] = data['User-Rating'].apply(convert_rating)\n",
    "\n",
    "# Pivot the table to create a user-item matrix\n",
    "user_item_matrix = data.pivot_table(index='Song-Name', columns='Singer/Artists', values='User-Rating')\n",
    "\n",
    "# Fill NaN values with 0, indicating that the user hasn't rated the song\n",
    "user_item_matrix = user_item_matrix.fillna(0)\n"
   ]
  },
  {
   "cell_type": "code",
   "execution_count": 44,
   "metadata": {},
   "outputs": [
    {
     "data": {
      "text/html": [
       "<div>\n",
       "<style scoped>\n",
       "    .dataframe tbody tr th:only-of-type {\n",
       "        vertical-align: middle;\n",
       "    }\n",
       "\n",
       "    .dataframe tbody tr th {\n",
       "        vertical-align: top;\n",
       "    }\n",
       "\n",
       "    .dataframe thead th {\n",
       "        text-align: right;\n",
       "    }\n",
       "</style>\n",
       "<table border=\"1\" class=\"dataframe\">\n",
       "  <thead>\n",
       "    <tr style=\"text-align: right;\">\n",
       "      <th></th>\n",
       "      <th>Song-Name</th>\n",
       "      <th>Singer/Artists</th>\n",
       "      <th>Genre</th>\n",
       "      <th>Album/Movie</th>\n",
       "      <th>User-Rating</th>\n",
       "    </tr>\n",
       "  </thead>\n",
       "  <tbody>\n",
       "    <tr>\n",
       "      <th>0</th>\n",
       "      <td>Aankh Marey</td>\n",
       "      <td>Kumar Sanu, Mika Singh, Neha Kakkar</td>\n",
       "      <td>BollywoodDance</td>\n",
       "      <td>Simmba</td>\n",
       "      <td>8.8</td>\n",
       "    </tr>\n",
       "    <tr>\n",
       "      <th>1</th>\n",
       "      <td>Coca Cola</td>\n",
       "      <td>Neha Kakkar, Tony Kakkar</td>\n",
       "      <td>BollywoodDanceRomantic</td>\n",
       "      <td>Luka Chuppi</td>\n",
       "      <td>9.0</td>\n",
       "    </tr>\n",
       "    <tr>\n",
       "      <th>2</th>\n",
       "      <td>Apna Time Aayega</td>\n",
       "      <td>Ranveer Singh</td>\n",
       "      <td>BollywoodDance</td>\n",
       "      <td>Gully Boy</td>\n",
       "      <td>9.7</td>\n",
       "    </tr>\n",
       "    <tr>\n",
       "      <th>3</th>\n",
       "      <td>Mungda</td>\n",
       "      <td>Jyotica Tangri, Shaan, Subhro Ganguly</td>\n",
       "      <td>BollywoodDance</td>\n",
       "      <td>Total Dhamaal</td>\n",
       "      <td>9.1</td>\n",
       "    </tr>\n",
       "    <tr>\n",
       "      <th>4</th>\n",
       "      <td>Tere Bin</td>\n",
       "      <td>Asees Kaur, Rahat Fateh Ali Khan, Tanishk Bagchi</td>\n",
       "      <td>BollywoodRomantic</td>\n",
       "      <td>Simmba</td>\n",
       "      <td>9.2</td>\n",
       "    </tr>\n",
       "  </tbody>\n",
       "</table>\n",
       "</div>"
      ],
      "text/plain": [
       "          Song-Name                                    Singer/Artists  \\\n",
       "0       Aankh Marey               Kumar Sanu, Mika Singh, Neha Kakkar   \n",
       "1         Coca Cola                          Neha Kakkar, Tony Kakkar   \n",
       "2  Apna Time Aayega                                     Ranveer Singh   \n",
       "3            Mungda             Jyotica Tangri, Shaan, Subhro Ganguly   \n",
       "4          Tere Bin  Asees Kaur, Rahat Fateh Ali Khan, Tanishk Bagchi   \n",
       "\n",
       "                    Genre    Album/Movie  User-Rating  \n",
       "0          BollywoodDance         Simmba          8.8  \n",
       "1  BollywoodDanceRomantic    Luka Chuppi          9.0  \n",
       "2          BollywoodDance      Gully Boy          9.7  \n",
       "3          BollywoodDance  Total Dhamaal          9.1  \n",
       "4       BollywoodRomantic         Simmba          9.2  "
      ]
     },
     "execution_count": 44,
     "metadata": {},
     "output_type": "execute_result"
    }
   ],
   "source": [
    "data.head()"
   ]
  },
  {
   "cell_type": "code",
   "execution_count": 46,
   "metadata": {},
   "outputs": [
    {
     "name": "stdout",
     "output_type": "stream",
     "text": [
      "[[-0.03592295 -0.02073458 -0.02073458 ... -0.08824199 -0.02073458\n",
      "  -0.0414897 ]\n",
      " [-0.03592295 -0.02073458 -0.02073458 ... -0.08824199 -0.02073458\n",
      "  -0.0414897 ]\n",
      " [-0.03592295 -0.02073458 -0.02073458 ... -0.08824199 -0.02073458\n",
      "  -0.0414897 ]\n",
      " [-0.03592295 -0.02073458 -0.02073458 ... -0.08824199 -0.02073458\n",
      "  -0.0414897 ]\n",
      " [-0.03592295 -0.02073458 -0.02073458 ... -0.08824199 -0.02073458\n",
      "  -0.0414897 ]]\n"
     ]
    }
   ],
   "source": [
    "# Pivot the table to create a user-item matrix\n",
    "user_item_matrix = data.pivot_table(index='Song-Name', columns='Singer/Artists', values='User-Rating')\n",
    "\n",
    "# Fill NaN values with 0, indicating that the user hasn't rated the song\n",
    "user_item_matrix = user_item_matrix.fillna(0)\n",
    "\n",
    "# Standardize the data (important for KNN)\n",
    "scaler = StandardScaler()\n",
    "user_item_matrix_scaled = scaler.fit_transform(user_item_matrix)\n",
    "\n",
    "# Print the transformed matrix\n",
    "print(user_item_matrix_scaled[:5])\n"
   ]
  },
  {
   "cell_type": "code",
   "execution_count": 48,
   "metadata": {},
   "outputs": [
    {
     "data": {
      "text/html": [
       "<style>#sk-container-id-1 {color: black;}#sk-container-id-1 pre{padding: 0;}#sk-container-id-1 div.sk-toggleable {background-color: white;}#sk-container-id-1 label.sk-toggleable__label {cursor: pointer;display: block;width: 100%;margin-bottom: 0;padding: 0.3em;box-sizing: border-box;text-align: center;}#sk-container-id-1 label.sk-toggleable__label-arrow:before {content: \"▸\";float: left;margin-right: 0.25em;color: #696969;}#sk-container-id-1 label.sk-toggleable__label-arrow:hover:before {color: black;}#sk-container-id-1 div.sk-estimator:hover label.sk-toggleable__label-arrow:before {color: black;}#sk-container-id-1 div.sk-toggleable__content {max-height: 0;max-width: 0;overflow: hidden;text-align: left;background-color: #f0f8ff;}#sk-container-id-1 div.sk-toggleable__content pre {margin: 0.2em;color: black;border-radius: 0.25em;background-color: #f0f8ff;}#sk-container-id-1 input.sk-toggleable__control:checked~div.sk-toggleable__content {max-height: 200px;max-width: 100%;overflow: auto;}#sk-container-id-1 input.sk-toggleable__control:checked~label.sk-toggleable__label-arrow:before {content: \"▾\";}#sk-container-id-1 div.sk-estimator input.sk-toggleable__control:checked~label.sk-toggleable__label {background-color: #d4ebff;}#sk-container-id-1 div.sk-label input.sk-toggleable__control:checked~label.sk-toggleable__label {background-color: #d4ebff;}#sk-container-id-1 input.sk-hidden--visually {border: 0;clip: rect(1px 1px 1px 1px);clip: rect(1px, 1px, 1px, 1px);height: 1px;margin: -1px;overflow: hidden;padding: 0;position: absolute;width: 1px;}#sk-container-id-1 div.sk-estimator {font-family: monospace;background-color: #f0f8ff;border: 1px dotted black;border-radius: 0.25em;box-sizing: border-box;margin-bottom: 0.5em;}#sk-container-id-1 div.sk-estimator:hover {background-color: #d4ebff;}#sk-container-id-1 div.sk-parallel-item::after {content: \"\";width: 100%;border-bottom: 1px solid gray;flex-grow: 1;}#sk-container-id-1 div.sk-label:hover label.sk-toggleable__label {background-color: #d4ebff;}#sk-container-id-1 div.sk-serial::before {content: \"\";position: absolute;border-left: 1px solid gray;box-sizing: border-box;top: 0;bottom: 0;left: 50%;z-index: 0;}#sk-container-id-1 div.sk-serial {display: flex;flex-direction: column;align-items: center;background-color: white;padding-right: 0.2em;padding-left: 0.2em;position: relative;}#sk-container-id-1 div.sk-item {position: relative;z-index: 1;}#sk-container-id-1 div.sk-parallel {display: flex;align-items: stretch;justify-content: center;background-color: white;position: relative;}#sk-container-id-1 div.sk-item::before, #sk-container-id-1 div.sk-parallel-item::before {content: \"\";position: absolute;border-left: 1px solid gray;box-sizing: border-box;top: 0;bottom: 0;left: 50%;z-index: -1;}#sk-container-id-1 div.sk-parallel-item {display: flex;flex-direction: column;z-index: 1;position: relative;background-color: white;}#sk-container-id-1 div.sk-parallel-item:first-child::after {align-self: flex-end;width: 50%;}#sk-container-id-1 div.sk-parallel-item:last-child::after {align-self: flex-start;width: 50%;}#sk-container-id-1 div.sk-parallel-item:only-child::after {width: 0;}#sk-container-id-1 div.sk-dashed-wrapped {border: 1px dashed gray;margin: 0 0.4em 0.5em 0.4em;box-sizing: border-box;padding-bottom: 0.4em;background-color: white;}#sk-container-id-1 div.sk-label label {font-family: monospace;font-weight: bold;display: inline-block;line-height: 1.2em;}#sk-container-id-1 div.sk-label-container {text-align: center;}#sk-container-id-1 div.sk-container {/* jupyter's `normalize.less` sets `[hidden] { display: none; }` but bootstrap.min.css set `[hidden] { display: none !important; }` so we also need the `!important` here to be able to override the default hidden behavior on the sphinx rendered scikit-learn.org. See: https://github.com/scikit-learn/scikit-learn/issues/21755 */display: inline-block !important;position: relative;}#sk-container-id-1 div.sk-text-repr-fallback {display: none;}</style><div id=\"sk-container-id-1\" class=\"sk-top-container\"><div class=\"sk-text-repr-fallback\"><pre>NearestNeighbors(algorithm=&#x27;brute&#x27;, metric=&#x27;cosine&#x27;)</pre><b>In a Jupyter environment, please rerun this cell to show the HTML representation or trust the notebook. <br />On GitHub, the HTML representation is unable to render, please try loading this page with nbviewer.org.</b></div><div class=\"sk-container\" hidden><div class=\"sk-item\"><div class=\"sk-estimator sk-toggleable\"><input class=\"sk-toggleable__control sk-hidden--visually\" id=\"sk-estimator-id-1\" type=\"checkbox\" checked><label for=\"sk-estimator-id-1\" class=\"sk-toggleable__label sk-toggleable__label-arrow\">NearestNeighbors</label><div class=\"sk-toggleable__content\"><pre>NearestNeighbors(algorithm=&#x27;brute&#x27;, metric=&#x27;cosine&#x27;)</pre></div></div></div></div></div>"
      ],
      "text/plain": [
       "NearestNeighbors(algorithm='brute', metric='cosine')"
      ]
     },
     "execution_count": 48,
     "metadata": {},
     "output_type": "execute_result"
    }
   ],
   "source": [
    "from sklearn.neighbors import NearestNeighbors\n",
    "\n",
    "# Fit the model\n",
    "model_knn = NearestNeighbors(metric='cosine', algorithm='brute')\n",
    "model_knn.fit(user_item_matrix_scaled)\n"
   ]
  },
  {
   "cell_type": "code",
   "execution_count": 50,
   "metadata": {},
   "outputs": [],
   "source": [
    "import pandas as pd\n",
    "from sklearn.neighbors import NearestNeighbors\n",
    "from scipy.sparse import csr_matrix\n",
    "from rapidfuzz import fuzz\n",
    "import numpy as np"
   ]
  },
  {
   "cell_type": "code",
   "execution_count": 52,
   "metadata": {},
   "outputs": [],
   "source": [
    "# Convert the DataFrame into a pivot table for sparse matrix creation\n",
    "df_songs_features = user_item_matrix\n",
    "\n",
    "# Obtain a sparse matrix\n",
    "mat_songs_features = csr_matrix(df_songs_features.values)\n"
   ]
  },
  {
   "cell_type": "code",
   "execution_count": 53,
   "metadata": {},
   "outputs": [],
   "source": [
    "# Define the Recommender Class\n",
    "class Recommender:\n",
    "    def __init__(self, metric, algorithm, k, data, decode_id_song):\n",
    "        self.metric = metric\n",
    "        self.algorithm = algorithm\n",
    "        self.k = k\n",
    "        self.data = data\n",
    "        self.decode_id_song = decode_id_song\n",
    "        self.model = self._recommender().fit(data)\n",
    "    \n",
    "    def make_recommendation(self, new_song, n_recommendations):\n",
    "        recommended = self._recommend(new_song=new_song, n_recommendations=n_recommendations)\n",
    "        print(\"... Done\")\n",
    "        return recommended \n",
    "    \n",
    "    def _recommender(self):\n",
    "        return NearestNeighbors(metric=self.metric, algorithm=self.algorithm, n_neighbors=self.k, n_jobs=-1)\n",
    "    \n",
    "    def _recommend(self, new_song, n_recommendations):\n",
    "        # Get the id of the recommended songs\n",
    "        recommendations = []\n",
    "        recommendation_ids = self._get_recommendations(new_song=new_song, n_recommendations=n_recommendations)\n",
    "        # Return the name of the song using a mapping dictionary\n",
    "        recommendations_map = self._map_indeces_to_song_title(recommendation_ids)\n",
    "        # Translate this recommendations into the ranking of song titles recommended\n",
    "        for i, (idx, dist) in enumerate(recommendation_ids):\n",
    "            recommendations.append(recommendations_map[idx])\n",
    "        return recommendations\n",
    "                 \n",
    "    def _get_recommendations(self, new_song, n_recommendations):\n",
    "        # Get the id of the song according to the text\n",
    "        recom_song_id = self._fuzzy_matching(song=new_song)\n",
    "        if recom_song_id is None:\n",
    "            return []\n",
    "        # Start the recommendation process\n",
    "        print(f\"Starting the recommendation process for {new_song} ...\")\n",
    "        # Return the n neighbors for the song id\n",
    "        distances, indices = self.model.kneighbors(self.data[recom_song_id], n_neighbors=n_recommendations+1)\n",
    "        return sorted(list(zip(indices.squeeze().tolist(), distances.squeeze().tolist())), key=lambda x: x[1])[:0:-1]\n",
    "    \n",
    "    def _map_indeces_to_song_title(self, recommendation_ids):\n",
    "        # Get reverse mapper\n",
    "        return {song_id: song_title for song_title, song_id in self.decode_id_song.items()}\n",
    "    \n",
    "    def _fuzzy_matching(self, song):\n",
    "        match_tuple = []\n",
    "        # Get match\n",
    "        for title, idx in self.decode_id_song.items():\n",
    "            ratio = fuzz.ratio(title.lower(), song.lower())\n",
    "            if ratio >= 60:\n",
    "                match_tuple.append((title, idx, ratio))\n",
    "        # Sort\n",
    "        match_tuple = sorted(match_tuple, key=lambda x: x[2])[::-1]\n",
    "        if not match_tuple:\n",
    "            print(f\"The recommendation system could not find a match for {song}\")\n",
    "            return None\n",
    "        return match_tuple[0][1]\n"
   ]
  },
  {
   "cell_type": "code",
   "execution_count": 56,
   "metadata": {},
   "outputs": [
    {
     "name": "stdin",
     "output_type": "stream",
     "text": [
      "Enter the song title for recommendations:  coca cola\n"
     ]
    },
    {
     "name": "stdout",
     "output_type": "stream",
     "text": [
      "Starting the recommendation process for coca cola ...\n",
      "... Done\n",
      "The recommendations for 'coca cola' are:\n",
      "['Neele Neele Ambar par', 'Nazrein Mili Dil Dhadka', 'Nazrein Milaana Nazrein Churaana', 'Nazm Nazm', 'Nazdeekiyan', 'Neela Aasman So Gaya', 'Sawan Aaya Hai (Unplugged Version)', 'Mohabbat Nasha Hai', 'Helicopter', 'Mile Ho Tum (Reprise)']\n"
     ]
    },
    {
     "name": "stdin",
     "output_type": "stream",
     "text": [
      "Do you want to get recommendations for another song? (yes/no):  yes\n",
      "Enter the song title for recommendations:  cola\n"
     ]
    },
    {
     "name": "stdout",
     "output_type": "stream",
     "text": [
      "Starting the recommendation process for cola ...\n",
      "... Done\n",
      "The recommendations for 'cola' are:\n",
      "['Neele Neele Ambar par', 'Nazrein Mili Dil Dhadka', 'Nazrein Milaana Nazrein Churaana', 'Nazm Nazm', 'Nazdeekiyan', 'Neela Aasman So Gaya', 'Sawan Aaya Hai (Unplugged Version)', 'Mohabbat Nasha Hai', 'Helicopter', 'Mile Ho Tum (Reprise)']\n"
     ]
    },
    {
     "name": "stdin",
     "output_type": "stream",
     "text": [
      "Do you want to get recommendations for another song? (yes/no):  yes\n",
      "Enter the song title for recommendations:  history\n"
     ]
    },
    {
     "name": "stdout",
     "output_type": "stream",
     "text": [
      "The recommendation system could not find a match for history\n",
      "... Done\n",
      "The recommendations for 'history' are:\n",
      "[]\n"
     ]
    },
    {
     "name": "stdin",
     "output_type": "stream",
     "text": [
      "Do you want to get recommendations for another song? (yes/no):  no\n"
     ]
    },
    {
     "name": "stdout",
     "output_type": "stream",
     "text": [
      "Exiting the recommendation system.\n"
     ]
    }
   ],
   "source": [
    "# Define your decode_id_song mapping\n",
    "decode_id_song = {title: idx for idx, title in enumerate(user_item_matrix.index)}\n",
    "\n",
    "# Initialize the recommender with the specified parameters\n",
    "model = Recommender(metric='cosine', algorithm='brute', k=20, data=mat_songs_features, decode_id_song=decode_id_song)\n",
    "\n",
    "def get_recommendations():\n",
    "    # Input song title from the user\n",
    "    song = input(\"Enter the song title for recommendations: \")\n",
    "\n",
    "    # Get recommendations\n",
    "    new_recommendations = model.make_recommendation(new_song=song, n_recommendations=10)\n",
    "\n",
    "    # Print the recommendations\n",
    "    print(f\"The recommendations for '{song}' are:\")\n",
    "    print(new_recommendations)\n",
    "\n",
    "def main():\n",
    "    while True:\n",
    "        get_recommendations()\n",
    "        # Ask the user if they want to get recommendations for another song\n",
    "        user_input = input(\"Do you want to get recommendations for another song? (yes/no): \").strip().lower()\n",
    "        if user_input not in ['yes', 'y']:\n",
    "            print(\"Exiting the recommendation system.\")\n",
    "            break\n",
    "\n",
    "if __name__ == \"__main__\":\n",
    "    main()\n"
   ]
  },
  {
   "cell_type": "code",
   "execution_count": 58,
   "metadata": {},
   "outputs": [],
   "source": [
    "import pickle"
   ]
  },
  {
   "cell_type": "code",
   "execution_count": 62,
   "metadata": {},
   "outputs": [],
   "source": [
    "import pickle\n",
    "with open('recommender_model.pkl', 'wb') as file:\n",
    "    pickle.dump(model, file)\n"
   ]
  },
  {
   "cell_type": "code",
   "execution_count": null,
   "metadata": {},
   "outputs": [],
   "source": []
  }
 ],
 "metadata": {
  "colab": {
   "authorship_tag": "ABX9TyMLxNX8pg6HrCkPR3EmdhC4",
   "provenance": []
  },
  "kernelspec": {
   "display_name": "Python 3 (ipykernel)",
   "language": "python",
   "name": "python3"
  },
  "language_info": {
   "codemirror_mode": {
    "name": "ipython",
    "version": 3
   },
   "file_extension": ".py",
   "mimetype": "text/x-python",
   "name": "python",
   "nbconvert_exporter": "python",
   "pygments_lexer": "ipython3",
   "version": "3.9.19"
  }
 },
 "nbformat": 4,
 "nbformat_minor": 4
}
